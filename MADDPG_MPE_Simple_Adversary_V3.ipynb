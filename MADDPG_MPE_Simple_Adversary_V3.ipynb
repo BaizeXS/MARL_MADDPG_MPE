{
 "cells": [
  {
   "cell_type": "code",
   "execution_count": 1,
   "id": "b637bed2e4b49784",
   "metadata": {
    "id": "b637bed2e4b49784"
   },
   "outputs": [],
   "source": [
    "# Inline Plotting\n",
    "%matplotlib inline"
   ]
  },
  {
   "cell_type": "markdown",
   "id": "87a8f4955e1268aa",
   "metadata": {
    "id": "87a8f4955e1268aa"
   },
   "source": [
    "# Multi-Agent Reinforcement Learning Experiment\n",
    "\n",
    "Note: This is an implement of the MADDPG algorithm based on the essay \"Multi-Agent Actor-Critic for Mixed Cooperative-Competitive Environments\"."
   ]
  },
  {
   "cell_type": "markdown",
   "id": "a835a163e1633f4f",
   "metadata": {
    "id": "a835a163e1633f4f"
   },
   "source": [
    "## 0. Preparation"
   ]
  },
  {
   "cell_type": "markdown",
   "id": "73e48db0",
   "metadata": {},
   "source": [
    "At the very beginning, let's import needed packages. We choose pettingzoo as our environment, installed by using `pip`."
   ]
  },
  {
   "cell_type": "code",
   "execution_count": null,
   "id": "1ef0bfb943d38916",
   "metadata": {
    "colab": {
     "base_uri": "https://localhost:8080/"
    },
    "id": "1ef0bfb943d38916",
    "outputId": "af96fd11-148e-42d4-c5e3-913634c598dd"
   },
   "outputs": [],
   "source": [
    "# Install packages\n",
    "%pip install pettingzoo[mpe]\n",
    "%pip install openpyxl"
   ]
  },
  {
   "cell_type": "markdown",
   "id": "eaddc110",
   "metadata": {},
   "source": [
    "We'll also use the following from PyTorch:\n",
    "\n",
    "- neural networks (torch.nn)\n",
    "- optimization (torch.optim)\n",
    "\n",
    "Matplotlib and Openpyxl are used for saving and visualizing our results."
   ]
  },
  {
   "cell_type": "code",
   "execution_count": 2,
   "id": "c85afac75c84429b",
   "metadata": {
    "id": "c85afac75c84429b"
   },
   "outputs": [],
   "source": [
    "# Import libraries\n",
    "import random\n",
    "from collections import namedtuple, deque\n",
    "\n",
    "import matplotlib\n",
    "import numpy as np\n",
    "import pandas as pd\n",
    "import torch\n",
    "import torch.nn as nn\n",
    "import torch.nn.functional as F\n",
    "import torch.optim as optim\n",
    "from matplotlib import pyplot as plt\n",
    "from pettingzoo.mpe import simple_adversary_v3\n",
    "from psutil import virtual_memory"
   ]
  },
  {
   "cell_type": "markdown",
   "id": "e6ffeaa2",
   "metadata": {},
   "source": [
    " Now,let's check the system memory and  NVIDIA Information."
   ]
  },
  {
   "cell_type": "code",
   "execution_count": 3,
   "id": "8521bc707b30e9f",
   "metadata": {
    "colab": {
     "base_uri": "https://localhost:8080/"
    },
    "id": "8521bc707b30e9f",
    "outputId": "b5c522f4-b318-4f99-c02a-aef8441595b2"
   },
   "outputs": [
    {
     "name": "stdout",
     "output_type": "stream",
     "text": [
      "Thu Aug 17 17:15:55 2023       \n",
      "+---------------------------------------------------------------------------------------+\n",
      "| NVIDIA-SMI 536.99                 Driver Version: 536.99       CUDA Version: 12.2     |\n",
      "|-----------------------------------------+----------------------+----------------------+\n",
      "| GPU  Name                     TCC/WDDM  | Bus-Id        Disp.A | Volatile Uncorr. ECC |\n",
      "| Fan  Temp   Perf          Pwr:Usage/Cap |         Memory-Usage | GPU-Util  Compute M. |\n",
      "|                                         |                      |               MIG M. |\n",
      "|=========================================+======================+======================|\n",
      "|   0  NVIDIA GeForce RTX 4060 ...  WDDM  | 00000000:01:00.0 Off |                  N/A |\n",
      "| N/A   35C    P0              11W / 120W |      0MiB /  8188MiB |      0%      Default |\n",
      "|                                         |                      |                  N/A |\n",
      "+-----------------------------------------+----------------------+----------------------+\n",
      "                                                                                         \n",
      "+---------------------------------------------------------------------------------------+\n",
      "| Processes:                                                                            |\n",
      "|  GPU   GI   CI        PID   Type   Process name                            GPU Memory |\n",
      "|        ID   ID                                                             Usage      |\n",
      "|=======================================================================================|\n",
      "|  No running processes found                                                           |\n",
      "+---------------------------------------------------------------------------------------+\n",
      "Your runtime has 16.9 gigabytes of available RAM\n",
      "\n",
      "Not using a high-RAM runtime\n"
     ]
    }
   ],
   "source": [
    "# Run in the Colab\n",
    "run_in_colab = False\n",
    "if run_in_colab:\n",
    "    # Check NVIDIA information\n",
    "    gpu_info = !nvidia-smi\n",
    "    gpu_info = '\\n'.join(gpu_info)\n",
    "    if gpu_info.find('failed') >= 0:\n",
    "        print('Not connected to a GPU')\n",
    "    else:\n",
    "        print(gpu_info)\n",
    "    # Check memory information\n",
    "    ram_gb = virtual_memory().total / 1e9\n",
    "    print('Your runtime has {:.1f} gigabytes of available RAM\\n'.format(ram_gb))\n",
    "    if ram_gb < 20:\n",
    "        print('Not using a high-RAM runtime')\n",
    "    else:\n",
    "        print('You are using a high-RAM runtime!')"
   ]
  },
  {
   "cell_type": "code",
   "execution_count": 4,
   "id": "fb0b801653d795ca",
   "metadata": {
    "colab": {
     "base_uri": "https://localhost:8080/"
    },
    "id": "fb0b801653d795ca",
    "outputId": "9644f8de-be9f-4726-d840-e69cc39e862b"
   },
   "outputs": [
    {
     "data": {
      "text/plain": [
       "<contextlib.ExitStack at 0x1d3e3c9e590>"
      ]
     },
     "execution_count": 4,
     "metadata": {},
     "output_type": "execute_result"
    }
   ],
   "source": [
    "# Set up matplotlib\n",
    "is_ipython = 'inline' in matplotlib.get_backend()\n",
    "if is_ipython:\n",
    "    from IPython import display\n",
    "\n",
    "plt.ion()"
   ]
  },
  {
   "cell_type": "markdown",
   "id": "82447ad863fddf",
   "metadata": {
    "id": "82447ad863fddf"
   },
   "source": [
    "## 1. Replay Buffer"
   ]
  },
  {
   "cell_type": "markdown",
   "id": "4e424ef7",
   "metadata": {},
   "source": [
    "Replay Buffer is a method of data storage and retrieval used in Reinforcement Learning. Its principle is to store the agent's experience in the environment in a buffer, and then to randomly extract some of the data from the buffer during training for learning. This has two advantages: first, it improves the utilisation rate of the data and avoids the waste of discarding it only once each time; second, it breaks the temporal correlation of the data and reduces the instability of the training. We chose to implement it with a circular queue of fixed size, and when the queue is full, the oldest data is automatically discarded.\n",
    "\n",
    "For this, we're going to need two classes:\n",
    "\n",
    "- `Transition` - a named tuple representing a single transition in our environment. It essentially maps (state, action) pairs to their (next_state, reward) result, with the state being the screen difference image as described later on.\n",
    "- `ReplayBuffer` - a cyclic buffer of bounded size that holds the transitions observed recently. It also implements a `.sample()` method for selecting a random batch of transitions for training."
   ]
  },
  {
   "cell_type": "code",
   "execution_count": 5,
   "id": "dd698432ed269d7b",
   "metadata": {
    "id": "dd698432ed269d7b"
   },
   "outputs": [],
   "source": [
    "\"\"\"Transition is a namedtuple used to store a transition.\n",
    "\n",
    "The structure of Transition looks like this:\n",
    "    (state, action, reward, next_state, done)\n",
    "\"\"\"\n",
    "Transition = namedtuple('Transition', ('state', 'action', 'reward', 'next_state', 'done'))\n",
    "\n",
    "\n",
    "class ReplayBuffer:\n",
    "    \"\"\"ReplayBuffer is a class used to achieve experience replay.\n",
    "\n",
    "    It's a buffer composed of a deque with a certain capacity. When the deque is full, it will automatically remove the oldest transition in the buffer.\n",
    "\n",
    "    Attributes:\n",
    "        _storage: The buffer to store the transitions.\n",
    "\n",
    "    Examples:\n",
    "        A replay buffer structure looks like below:\n",
    "        [\n",
    "            (state_1, action_1, reward_1, next_state_1, done_1),\n",
    "            (state_2, action_2, reward_2, next_state_2, done_2),\n",
    "            ...\n",
    "            (state_n, action_n, reward_n, next_state_n, done_n),\n",
    "        ]\n",
    "        Each tuple is a transition.\n",
    "    \"\"\"\n",
    "\n",
    "    def __init__(self, capacity=100_000):\n",
    "        \"\"\"Initial a replay buffer with capacity.\n",
    "\n",
    "        Args:\n",
    "            capacity: Max length of the buffer.\n",
    "        \"\"\"\n",
    "        self._storage = deque([], maxlen=capacity)\n",
    "\n",
    "    def add(self, state, action, reward, next_state, done):\n",
    "        \"\"\"Add a transition to the buffer.\n",
    "\n",
    "        Args:\n",
    "            state:          The state of the agents.\n",
    "            action:         The action of the agents.\n",
    "            reward:         The reward of the agents.\n",
    "            next_state:     The next state of the agents.\n",
    "            done:           The termination of the agents.\n",
    "\n",
    "        Returns: None\n",
    "\n",
    "        \"\"\"\n",
    "        transition = Transition(state, action, reward, next_state, done)\n",
    "        self._storage.append(transition)\n",
    "\n",
    "    def sample(self, batch_size):\n",
    "        \"\"\"Sample a batch of transitions from the buffer.\n",
    "\n",
    "        Args:\n",
    "            batch_size: The number of transitions that we want to sample from the buffer.\n",
    "\n",
    "        Returns: A batch of transitions.\n",
    "\n",
    "        Example:\n",
    "            Assuming that batch_size=3, we'll randomly sample 3 transitions from the buffer:\n",
    "                state_batch = (state_1, state_2, state_3)\n",
    "                action_batch = (action_1, action_2, action_3)\n",
    "                reward_batch = (reward_1, reward_2, reward_3)\n",
    "                next_state_batch = (next_state_1, next_state_2, next_state_3)\n",
    "                done_batch = (done_1, done_2, done_3)\n",
    "        \"\"\"\n",
    "        transitions = random.sample(self._storage, batch_size)\n",
    "        state_batch, action_batch, reward_batch, next_state_batch, done_batch = zip(*transitions)\n",
    "        return state_batch, action_batch, reward_batch, next_state_batch, done_batch\n",
    "\n",
    "    def __len__(self):\n",
    "        \"\"\"Return the length of the buffer.\"\"\"\n",
    "        return len(self._storage)"
   ]
  },
  {
   "cell_type": "markdown",
   "id": "1e015a5f56d7876f",
   "metadata": {
    "id": "1e015a5f56d7876f"
   },
   "source": [
    "## 2. Simple Neural Network"
   ]
  },
  {
   "cell_type": "markdown",
   "id": "ed49e00c",
   "metadata": {},
   "source": [
    "This code is a simple neural network class written in the PyTorch framework. It has the following characteristics:\n",
    "\n",
    "- It inherits the `nn.Module` class, which is the base class for all neural network models in PyTorch.\n",
    "- It defines three fully connected layers (`nn.Linear`), which are the input layer, the hidden layer and the output layer. Its parameters are input dimensions, output dimensions and hidden dimensions.\n",
    "- It defines the `forward` propagation process of the neural network in the forward method. It first passes the input data $x$ through the first layer and applies the ReLU activation function (`F.relu`) to it. It then passes the result through the second layer again and applies the `relu` activation function again. Finally, it passes the result through the third layer and returns the output data.\n",
    "\n",
    "The reasons we use three-layer neural networks are as follows:\n",
    "- Each linear layer introduces additional parameters and nonlinear activation functions, which increase the complexity and flexibility of the model. More linear layers mean that models can learn richer feature representations and better fit complex relationships between inputs and outputs\n",
    "- If the model is too complex and the amount of training data is relatively small, it is prone to overfitting problems. Too many linear layers increase the complexity of the model and make it easier to remember the details of the training sample, ignoring the ability to generalize to new data.\n",
    "- DQN is based on Q-learning algorithm ，which usually adopts three-layer CNN structure."
   ]
  },
  {
   "cell_type": "code",
   "execution_count": 6,
   "id": "a5729db93ad71867",
   "metadata": {
    "id": "a5729db93ad71867"
   },
   "outputs": [],
   "source": [
    "class SimpleNet(nn.Module):\n",
    "    \"\"\"SimpleNet is a 3-layer simple neural network.\n",
    "\n",
    "    It's used to approximate the policy functions and the value functions.\n",
    "    \"\"\"\n",
    "\n",
    "    def __init__(self, input_dim, output_dim, hidden_dim):\n",
    "        \"\"\"Initial a simple network for an actor or a critic.\n",
    "\n",
    "        Args:\n",
    "            input_dim: The input dimension of the network.\n",
    "            output_dim: The output dimension of the network.\n",
    "            hidden_dim: The hidden layer dimension of the network.\n",
    "        \"\"\"\n",
    "        super(SimpleNet, self).__init__()\n",
    "        self.layer1 = nn.Linear(input_dim, hidden_dim)\n",
    "        self.layer2 = nn.Linear(hidden_dim, hidden_dim)\n",
    "        self.layer3 = nn.Linear(hidden_dim, output_dim)\n",
    "\n",
    "    def forward(self, x):\n",
    "        x = F.relu(self.layer1(x))\n",
    "        x = F.relu(self.layer2(x))\n",
    "        return self.layer3(x)"
   ]
  },
  {
   "cell_type": "markdown",
   "id": "cae7c08737dd548f",
   "metadata": {
    "id": "cae7c08737dd548f"
   },
   "source": [
    "## 3. Gumbel Softmax Trick"
   ]
  },
  {
   "cell_type": "markdown",
   "id": "2c0b6c7b",
   "metadata": {},
   "source": [
    "The action space of each agent in an MPE environment is discrete. The DDPG algorithm we use must itself make the agent's actions derivable for its strategy parameters, which is true for continuous action space, but not for discrete action space. However, this does not mean that the current task cannot be solved using the MADDPG algorithm, because we can use a method called Gumbel-Softmax to get an approximate sample of the discrete distribution. Below we briefly introduce its principles and provide the implementation code.\n",
    "\n",
    "Suppose you have a random variable that follows a discrete distribution $K=(a_1,...,a_k)$. Then $a_i\\in[0,1]$ means $P(Z=i)$ and $\\sum_{i = 1}^{k}a_i=1$. If we want to sample according to this distribution $z\\sim K$, we can see that sampling this discrete distribution is not derivable.\n",
    "\n",
    "So is there a way to make discrete sampling controllable? The answer is heavy parameterisation, and we use the Gumbel-Softmax technique. Specifically, we introduce a heavy parameter factor $g_i$, which is a noise sampled from $Gumbel(0，1)$: $$g_i=-log(-logu),u\\sim Uniform(0,1)$$Gumbel Softmax samples can be written as:$$y_i=\\frac{exp((loga_i+g_i)/\\tau)}{\\sum_{j = 1}^{k}exp((loga_j+g_i)/\\tau)},i=1,...,k.$$\n",
    "\n",
    "In this case, if the discrete value is calculated by $z=\\arg max_iy_i$, the discrete value is approximately equivalent to the value sampled by the discrete $z\\sim K$. Furthermore, the gradient for $a$ is naturally introduced into the sample result $y$. $\\tau>0$ is called the temperature parameter of the distribution, and by adjusting it one can control how similar the generated Gumbel-Softmax distribution is to the discrete distribution: the smaller $\\tau$, the more the resulting distribution tends to be the result $onehot(\\arg max_iloga_i+g_i)$; the larger $\\tau$, the more the resulting distribution tends to be uniformly distributed.\n",
    "\n",
    "Next, define some of the utility functions that need to be used, including functions related to Gumbel Softmax sampling, which allows DDPG to be applied to discrete action spaces."
   ]
  },
  {
   "cell_type": "code",
   "execution_count": 7,
   "id": "337f3cc479b8d87b",
   "metadata": {
    "id": "337f3cc479b8d87b"
   },
   "outputs": [],
   "source": [
    "def trans2onehot(logits, eps=0.01):\n",
    "    \"\"\"Transform the output of the actor network to a one-hot vector.\n",
    "\n",
    "    Args:\n",
    "        logits:     The output value of the actor network.\n",
    "        eps:        The epsilon parameter in the epsilon-greedy algorithm used to choose an action.\n",
    "\n",
    "    Returns: An action in one-hot vector form.\n",
    "\n",
    "    \"\"\"\n",
    "    # Generates a one-hot vector form of the action selected by the actor network.\n",
    "    best_action = (logits == logits.max(1, keepdim=True)[0]).float()\n",
    "    # Generate a one-hot vector form of a random action.\n",
    "    size, num_actions = logits.shape\n",
    "    random_index = np.random.choice(range(num_actions), size=size)\n",
    "    random_actions = torch.eye(num_actions)[[random_index]].to(logits.device)\n",
    "    # Select an action using the epsilon-greedy algorithm.\n",
    "    random_mask = torch.rand(size, device=logits.device) <= eps\n",
    "    selected_action = torch.where(random_mask.view(-1, 1), random_actions, best_action)\n",
    "    return selected_action\n",
    "\n",
    "\n",
    "def sample_gumbel(shape, eps=1e-20, tensor_type=torch.float32):\n",
    "    \"\"\"Sample a Gumbel noise from the Gumbel(0,1) distribution.\"\"\"\n",
    "    U = torch.rand(shape, dtype=tensor_type, requires_grad=False)\n",
    "    gumbel_noise = -torch.log(-torch.log(U + eps) + eps)\n",
    "    return gumbel_noise\n",
    "\n",
    "\n",
    "def gumbel_softmax_sample(logits, temperature):\n",
    "    \"\"\"Sample from the Gumbel-Softmax distribution.\"\"\"\n",
    "    gumbel_noise = sample_gumbel(logits.shape, tensor_type=logits.dtype).to(logits.device)\n",
    "    y = logits + gumbel_noise\n",
    "    return F.softmax(y / temperature, dim=1)\n",
    "\n",
    "\n",
    "def gumbel_softmax(logits, temperature=1.0):\n",
    "    \"\"\"Sample from Gumbel-Softmax distribution and discretize it.\n",
    "\n",
    "    By returning a one-hot vector of y_hard, but with a gradient of y, we can get both a discrete action interacting with the environment and a correct inverse gradient.\n",
    "    \"\"\"\n",
    "    y = gumbel_softmax_sample(logits, temperature)\n",
    "    y_hard = trans2onehot(y)\n",
    "    y = (y_hard.to(logits.device) - y).detach() + y\n",
    "    return y"
   ]
  },
  {
   "cell_type": "markdown",
   "id": "9432ad7b1133c07d",
   "metadata": {
    "id": "9432ad7b1133c07d"
   },
   "source": [
    "## 4. DDPG"
   ]
  },
  {
   "cell_type": "markdown",
   "id": "9030e0f3",
   "metadata": {},
   "source": [
    "Next we will use the deep deterministic policy gradient (DDPG) algorithm, which constructs a deterministic policy that uses gradient ascent to maximize values. DDPG is also an actor-critic algorithm. \n",
    "\n",
    "If the policy is deterministic, it can be denoted by $a=u_\\theta(s)$. Similar to the policy gradient theorem, we can derive the deterministic policy gradient theorem:$$\\nabla_{\\theta} J\\left(\\pi_{\\theta}\\right)=\\mathbb{E}_{s \\sim \\nu^{\\pi_{\\beta}}}\\left[\\left.\\nabla_{\\theta} \\mu_{\\theta}(s) \\nabla_{a} Q_{\\omega}^{\\mu}(s, a)\\right|_{a=\\mu_{\\theta}(s)}\\right]$$\n",
    "\n",
    "where $\\pi _\\beta$ is the policy used to collect data. We can understand this theorem as follows: suppose there is already a function $Q$ given a state $s$. But since the action space is now infinite, it is not possible to find the action with the largest value of $Q$ by iterating over all actions, so we want to use the policy $u$ to find the action $a$ that maximises the value of $Q(s,a)$: $u(s)=\\arg max_aQ(s,a)$.\n",
    "\n",
    "To get $u$, we first use $Q$ to derive a derivative $\\nabla _\\theta Q(s,u_\\theta (s))$ of $u_\\theta$, which uses the chain rule of the gradient, first for $a$ and then for $\\theta$. The function $Q$ is then maximised by a gradient ascent to get the action with the largest $Q$ value.\n",
    "\n",
    "DDPG uses four neural networks, one each for Actor and Critic, and one each for a target network. In DDPG, Actors also need a target net, as the target net is also used to calculate the target value $Q$. The update of the target &Q& network in DDPG is slightly different from that in DQN: in DQN, the $Q$ network is replicated directly to the target $Q$ network at regular intervals; in DDPG, the update of the target $Q$ network uses a soft update method, i.e. the target $Q$ network is updated slowly and gradually approaches the $Q$ network, and its formula is$$w^-\\leftarrow \\tau w+(1-\\tau)w^-$$\n",
    "\n",
    "Usually $\\tau$ is a relatively small number, and when $\\tau=1$ it is consistent with how the DQN is updated. The target network $u$ also uses this soft update method.\n",
    "\n",
    "In addition, due to the problem of overestimating the $Q$ value of the function $Q$, DDPG uses the technology in Double DQN to update the network. However, because DDPG uses a deterministic strategy, its own exploration is still very limited. Remembering the DQN algorithm, its exploration is mainly generated by the behaviour of the greedy strategy. Also as an algorithm for offline strategies, DDPG introduces a random noise on the behavioural strategies to explore.\n",
    "\n",
    "Both the strategy network and the value network use a single hidden layer neural network. The output layer of the strategy network uses the tangent function $y=\\tanh x$ as the activation function, because the value domain of the tangent function is $[-1,1]$, which is convenient to scale to the range of actions acceptable to the environment. In DDPG, which deals with environments that interact with continuous actions, the input to the x-network is a vector of states and actions concatenated together, and the output of the x-network is a value representing the value of that state-action pair.\n",
    "\n",
    "When taking actions with a policy network, we add Gaussian noise to the actions for better exploration. In the original DDPG paper, the added noise corresponds to the Ornstein-Uhlenbeck (OU) stochastic process:$$\\Delta x_{t}=\\theta\\left(\\mu-x_{t-1}\\right)+\\sigma W$$\n",
    "\n",
    "where $u$ is the mean, $W$ is random noise following Brownian motion, and $\\theta$ and $\\sigma$ are scale parameters. It can be seen that $x(t-1)$ when deviating from the mean, the value of $x_t$ moves closer to the mean. the OU stochastic process is characterised by a linear negative feedback around the mean with an additional disturbance term."
   ]
  },
  {
   "cell_type": "code",
   "execution_count": 8,
   "id": "72c554e4380ea6fb",
   "metadata": {
    "id": "72c554e4380ea6fb"
   },
   "outputs": [],
   "source": [
    "class DDPG:\n",
    "    \"\"\"The DDPG Algorithm.\n",
    "\n",
    "    1. Each instance of DDPG corresponds an agent.\n",
    "    2. Each instance of DDPG consists of an actor (policy network) and a critic (value network).\n",
    "    3. Each instance of DDPG contains a set of target networks for its actor and critic (affected by the double DQN strategy).\n",
    "    4. Network update function is contained in the Center Controller class, the MADDPG class, so that we can achieve the Centralized Training and Decentralized Execution method easily.\n",
    "\n",
    "    Attributes:\n",
    "        actor:              The Actor (Policy Network).\n",
    "        target_actor:       The Target Actor (Target Policy Network).\n",
    "        critic:             The Critic (value Network).\n",
    "        target_critic:      The Target Critic (Target Value Network).\n",
    "        actor_optimizer:    The optimizer of Actor.\n",
    "        critic_optimizer:   The optimizer of Critic.\n",
    "    \"\"\"\n",
    "\n",
    "    def __init__(self, state_dim, action_dim, critic_dim, hidden_dim, actor_lr, critic_lr, device):\n",
    "        \"\"\"Initialize a DDPG instance for an agent.\n",
    "\n",
    "        Args:\n",
    "            state_dim:      The dimension of the state, which is also the input dimension of Actor and a part of Critics' input.\n",
    "            action_dim:     The dimension of the action, which is also a part of Critics' input.\n",
    "            critic_dim:     The dimension of the Critics' input (Critic Dimension = State Dimensions + Action Dimension).\n",
    "            hidden_dim:     The dimension of the hidden layer of the networks.\n",
    "            actor_lr:       The learning rate for the Actor.\n",
    "            critic_lr:      The learning rate for the Critic.\n",
    "            device:         The device to compute.\n",
    "        \"\"\"\n",
    "        # Set Actor with Target Network\n",
    "        self.actor = SimpleNet(state_dim, action_dim, hidden_dim).to(device)\n",
    "        self.target_actor = SimpleNet(state_dim, action_dim, hidden_dim).to(device)\n",
    "        # Set Critic with Target Network\n",
    "        self.critic = SimpleNet(critic_dim, 1, hidden_dim).to(device)\n",
    "        self.target_critic = SimpleNet(critic_dim, 1, hidden_dim).to(device)\n",
    "        # Load parameters from Actor and Critic to their target networks\n",
    "        self.target_actor.load_state_dict(self.actor.state_dict())\n",
    "        self.target_critic.load_state_dict(self.critic.state_dict())\n",
    "        # Set up optimizers\n",
    "        self.actor_optimizer = optim.Adam(self.actor.parameters(), lr=actor_lr)\n",
    "        self.critic_optimizer = optim.Adam(self.critic.parameters(), lr=critic_lr)\n",
    "\n",
    "    def take_action(self, state, explore=False):\n",
    "        \"\"\"Take action from the Actor (Policy Network).\n",
    "\n",
    "        1. State -> the Actor -> Action Value\n",
    "        2. Choose action according to the value of explore.\n",
    "            - explore == True: Choose an action based on the gumbel trick.\n",
    "            - explore == False: Choose the action from the Actor, and transform the value to a one-hot vector.\n",
    "\n",
    "        Args:\n",
    "            state:      The partial observation of the agent.\n",
    "            explore:    The strategy to choose action.\n",
    "\n",
    "        Returns: The action that the Actor has chosen.\n",
    "\n",
    "        \"\"\"\n",
    "        # Choose an action from actor network (deterministic policy network).\n",
    "        action = self.actor(state)\n",
    "        # Exploration and Exploitation\n",
    "        if explore:\n",
    "            action = gumbel_softmax(action)\n",
    "        else:\n",
    "            action = trans2onehot(action)\n",
    "        # TODO: Find out why the action need to be transferred to the CPU\n",
    "        # return action.detach().cpu().numpy()[0]\n",
    "        return action.detach().cpu().numpy()[0]\n",
    "\n",
    "    @staticmethod\n",
    "    def soft_update(net, target_net, tau):\n",
    "        \"\"\"Soft update function, which is used to update the parameters in the target network.\n",
    "\n",
    "        Args:\n",
    "            net:            The original network.\n",
    "            target_net:     The target network.\n",
    "            tau:            Soft update parameter.\n",
    "\n",
    "        Returns: None\n",
    "\n",
    "        \"\"\"\n",
    "        # Update target network's parameters using soft update strategy\n",
    "        for target_param, param in zip(target_net.parameters(), net.parameters()):\n",
    "            target_param.data.copy_(tau * param.data + (1.0 - tau) * target_param.data)"
   ]
  },
  {
   "cell_type": "markdown",
   "id": "26f6bd6a4a3305e3",
   "metadata": {
    "id": "26f6bd6a4a3305e3"
   },
   "source": [
    "## 5. MADDPG"
   ]
  },
  {
   "cell_type": "markdown",
   "id": "83228c56",
   "metadata": {},
   "source": [
    "The multi-agent DDPG algorithm literally means an algorithm that implements a DDPG for each agent. All agents share a centralised critic network that simultaneously guides each agent's actor network during the training process, and each agent's actor network acts completely independently, i.e. decentralised execution.\n",
    "The main detail of the MADDPG algorithm is that each agent is trained with the Actor-Critic method, but unlike the traditional single agent, the Critic part of each agent in MADDPG can obtain the strategy information of other agents. Specifically, if we consider a game with $N$ agents, each agent's policy parameter is $\\theta=\\lbrace \\theta_1,...,\\theta _N \\rbrace$, and $\\pi=\\lbrace \\pi_1,...,\\pi _N \\rbrace$ is the set of strategies for all agents, then we can write the policy gradient of each agent's expected return in the case of a random strategy:$$\\nabla_{\\theta_{i}} J\\left(\\theta_{i}\\right)=\\mathbb{E}_{s \\sim p^{\\mu}, a \\sim \\pi_{i}}\\left[\\nabla_{\\theta_{i}} \\log \\pi_{i}\\left(a_{i} \\mid o_{i}\\right) Q_{i}^{\\pi}\\left(\\mathbf{x}, a_{1}, \\ldots, a_{N}\\right)\\right]$$\n",
    "\n",
    "$Q_i^\\pi=(\\mathbf{x},a_1,...,a_N)$ is a centralised action value function. Why is $Q_i$ a centralised action value function? In general, $\\mathbf{x}=(o_1,...,o_N)$ contains the observations of all agents, and $Q_i$ must also contain the actions of all agents at that moment, so the premise of $Q_i$ is that all agents must give their own observations and corresponding actions at the same time.\n",
    "\n",
    "For a deterministic strategy, considering that there are now $N$ successive strategies $\\mu_{\\theta_{i}}$, we can get the gradient formula for DDPG:$$\\nabla_{\\theta_{i}} J\\left(\\theta_{i}\\right)=\\mathbb{E}_{s \\sim p^{\\mu}, a \\sim \\pi_{i}}\\left[\\nabla_{\\theta_{i}} \\log \\pi_{i}\\left(a_{i} \\mid o_{i}\\right) Q_{i}^{\\pi}\\left(\\mathbf{x}, a_{1}, \\ldots, a_{N}\\right)\\right]\\nabla_{\\theta_{i}} J\\left(\\mu_{i}\\right)=\\mathbb{E}_{\\mathbf{x} \\sim \\mathcal{D}}\\left[\\left.\\nabla_{\\theta_{i}} \\mu_{i}\\left(o_{i}\\right) \\nabla_{a_{i}} Q_{i}^{\\mu}\\left(\\mathbf{x}, a_{1}, \\ldots, a_{N}\\right)\\right|_{a_{i}=\\mu_{i}\\left(o_{i}\\right)}\\right]$$\n",
    "\n",
    "$D$ is the empirical playback pool we use to store data, and every piece of data it stores is $(\\mathbf{x},\\mathbf{x}',a_1,...,a_N,r_1,...,r_N)$. In MADDPG, the centralized action value function can be updated with the following loss function:$$\\mathcal{L}\\left(\\omega_{i}\\right)=\\mathbb{E}_{\\mathbf{x}, a, r, \\mathbf{x}^{\\prime}}\\left[\\left(Q_{i}^{\\mu}\\left(\\mathbf{x}, a_{1}, \\ldots, a_{N}\\right)-y\\right)^{2}\\right], \\quad y=r_{i}+\\left.\\gamma Q_{i}^{\\mu^{\\prime}}\\left(\\mathbf{x}^{\\prime}, a_{1}^{\\prime}, \\ldots, a_{N}^{\\prime}\\right)\\right|_{a_{j}^{\\prime}=\\mu_{j}^{\\prime}\\left(o_{j}\\right)}$$\n",
    "\n",
    "$\\mu^{\\prime}=\\left(\\mu_{\\theta_{1}}^{\\prime}, \\ldots, \\mu_{\\theta_{N}}^{\\prime}\\right)$ is the set of target policies used in the update value function, which have parameters for deferred updates.\n"
   ]
  },
  {
   "cell_type": "code",
   "execution_count": 9,
   "id": "4ff8104372bbaafe",
   "metadata": {
    "id": "4ff8104372bbaafe"
   },
   "outputs": [],
   "source": [
    "class MADDPG:\n",
    "    \"\"\"The Multi-Agent DDPG Algorithm.\n",
    "\n",
    "    1. The instance of MADDPG is the Center Controller in the algorithm.\n",
    "    2. The instance of MADDPG contains a list of DDPG instances, which are corresponded with the agents in the environment one by one.\n",
    "\n",
    "    Attributes:\n",
    "        agents:     A list of DDPG instances, which are corresponded with the agents in the environment one by one.\n",
    "        device:     The device to compute.\n",
    "        gamma:      The gamma parameter in TD target.\n",
    "        tau:        The tau parameter for soft update.\n",
    "        critic_criterion: The loss function for the Critic networks.\n",
    "    \"\"\"\n",
    "\n",
    "    def __init__(self, state_dims, action_dims, critic_dim, hidden_dim, actor_lr, critic_lr, device, gamma, tau):\n",
    "        \"\"\"Initialize a MADDPG instance as the Center Controller.\n",
    "\n",
    "        Args:\n",
    "            state_dims: A list of dimensions of each agent's observation.\n",
    "            action_dims: A list of dimensions of each agent's action.\n",
    "            critic_dim: The dimension of the Critic networks' input.\n",
    "            hidden_dim: The dimension of the networks' hidden layers.\n",
    "            actor_lr: The learning rate for the Actor.\n",
    "            critic_lr: The learning rate for the Critic.\n",
    "            device: The device to compute.\n",
    "            gamma: The gamma parameter in TD target.\n",
    "            tau: The tau parameter for soft update.\n",
    "        \"\"\"\n",
    "        # TODO: Should we use dict to combine the DDPG instance with agents?\n",
    "        self.agents = [\n",
    "            DDPG(state_dim, action_dim, critic_dim, hidden_dim, actor_lr, critic_lr, device)\n",
    "            for state_dim, action_dim in zip(state_dims, action_dims)\n",
    "        ]\n",
    "        self.device = device\n",
    "        self.gamma = gamma\n",
    "        self.tau = tau\n",
    "        self.critic_criterion = nn.MSELoss()\n",
    "\n",
    "    @property\n",
    "    def policies(self):\n",
    "        \"\"\"A list of Actors for the agents.\"\"\"\n",
    "        return [agent.actor for agent in self.agents]\n",
    "\n",
    "    @property\n",
    "    def target_policies(self):\n",
    "        \"\"\"A list of Target Actors for the agents.\"\"\"\n",
    "        return [agent.target_actor for agent in self.agents]\n",
    "\n",
    "    def take_action(self, states, explore):\n",
    "        \"\"\"Take actions from the Actors (Policy Networks).\n",
    "\n",
    "        Args:\n",
    "            states: A list of observations from all the agents.\n",
    "            explore: The strategy to choose action (Exploration or Exploitation).\n",
    "\n",
    "        Returns: A list of actions in one-hot vector form.\n",
    "\n",
    "        \"\"\"\n",
    "        states = [torch.tensor(np.array([state]), dtype=torch.float, device=self.device) for state in states]\n",
    "        return [agent.take_action(state, explore) for agent, state in zip(self.agents, states)]\n",
    "\n",
    "    def update(self, sample, agent_idx):\n",
    "        \"\"\"Update parameters for the agent whose index is agent_idx.\n",
    "\n",
    "        Args:\n",
    "            sample: A batch of transitions used to update all the parameters.\n",
    "            agent_idx: The index of the agent whose Actor and Critic would be updated in this function.\n",
    "\n",
    "        Returns: None\n",
    "\n",
    "        Process:\n",
    "            Parse Data from Sample to Observation, Action, Reward, Next Observation and Done Tag.\n",
    "            Set up Current Agent\n",
    "            Update Current Critic (Value Network) with TD Algorithm:\n",
    "                1. Initialize the Gradient to Zero.\n",
    "                2. Build a Tensor Contains All Target Actions Using Target Actor Networks and Next Observations.\n",
    "                3. Calculate Target Critic Value:\n",
    "                    - Combine Next Observation and Target Action in One To One Correspondence.\n",
    "                    - Calculate Target Critic Value (TD Target).\n",
    "                4. Calculate Critic Value:\n",
    "                    - Combine Observation and Action in One To One Correspondence.\n",
    "                    - Calculate Critic Value (TD Target).\n",
    "                5. Calculate Critic's Loss Using MSELoss Function\n",
    "                6. Backward Propagation.\n",
    "                7. Update Parameters with Gradient Descent.\n",
    "            Update Current Actor (Policy Network) with Deterministic Policy Gradient:\n",
    "                1. Initialize the Gradient to Zero.\n",
    "                2. Get Current Actors' Action in the Shape of One-Hot Vector.\n",
    "                    - Get Current Actor Network Output with Current Observation.\n",
    "                    - Transform the Output into a One-Hot Action Vector.\n",
    "                3. Build the Input of Current Actor's Value Function.\n",
    "                    - Build a tensor that contains all the actions.\n",
    "                    - Combine Observations and Actions in One To One Correspondence.\n",
    "                4. Calculate Actor's Loss Using Critic Network (Value Function) Output.\n",
    "                5. Backward Propagation.\n",
    "                6. Update Parameters with Gradient Descent.\n",
    "\n",
    "        TODO:\n",
    "        1. Why there is a term, \"(1 - dones[agent_idx].view(-1, 1))\", during calculation of TD target?\n",
    "            To take termination in to consideration (To be verified).\n",
    "        2. Why there is a term, \"(current_actor_action_value ** 2).mean() * 1e-3\", during calculation of Actor Loss?\n",
    "            To make the output of the trained Actor more stable and smooth with this regular term (To be verified).\n",
    "        \"\"\"\n",
    "        states, actions, rewards, next_states, dones = sample\n",
    "        current_agent = self.agents[agent_idx]\n",
    "        # Update Current Critic (Value Network) with TD Algorithm\n",
    "        current_agent.critic_optimizer.zero_grad()\n",
    "        # Here is the step to choose the actions from the actor network and we have two strategies.\n",
    "        # Option 1: Use the target network strategy.\n",
    "        target_action = [\n",
    "            trans2onehot(_target_policy(_next_obs))\n",
    "            for _target_policy, _next_obs in zip(self.target_policies, next_states)\n",
    "        ]\n",
    "        # Option 2: Use the double DQN strategy.\n",
    "        # target_action = [\n",
    "        #     # Choose actions from the original network!!!\n",
    "        #     trans2onehot(policy(_next_obs))\n",
    "        #     for policy, _next_obs in zip(self.policies, next_states)\n",
    "        # ]\n",
    "        target_critic_input = torch.cat((*next_states, *target_action), dim=1)\n",
    "        target_critic_value = (rewards[agent_idx].view(-1, 1) +\n",
    "                               self.gamma * current_agent.target_critic(target_critic_input) *\n",
    "                               (1 - dones[agent_idx].view(-1, 1)))\n",
    "        critic_input = torch.cat((*states, *actions), dim=1)\n",
    "        critic_value = current_agent.critic(critic_input)\n",
    "        critic_loss = self.critic_criterion(critic_value, target_critic_value.detach())\n",
    "        critic_loss.backward()\n",
    "        current_agent.critic_optimizer.step()\n",
    "        # Update Current Actor (Policy Network) with Deep Deterministic Policy Gradient\n",
    "        current_agent.actor_optimizer.zero_grad()\n",
    "        current_actor_action_value = current_agent.actor(states[agent_idx])\n",
    "        current_actor_action_onehot = gumbel_softmax(current_actor_action_value)\n",
    "        all_actor_actions = [\n",
    "            current_actor_action_onehot if i == agent_idx else trans2onehot(_policy(_state))\n",
    "            for i, (_policy, _state) in enumerate(zip(self.policies, states))\n",
    "        ]\n",
    "        current_critic_input = torch.cat((*states, *all_actor_actions), dim=1)\n",
    "        actor_loss = (-current_agent.critic(current_critic_input).mean() +\n",
    "                      (current_actor_action_value ** 2).mean() * 1e-3)\n",
    "        actor_loss.backward()\n",
    "        current_agent.actor_optimizer.step()\n",
    "\n",
    "    def update_all_targets_params(self):\n",
    "        \"\"\"Update all Target network's parameters using soft update method.\"\"\"\n",
    "        for agent in self.agents:\n",
    "            agent.soft_update(agent.actor, agent.target_actor, self.tau)\n",
    "            agent.soft_update(agent.critic, agent.target_critic, self.tau)"
   ]
  },
  {
   "cell_type": "markdown",
   "id": "3ec7c54ff4830fb8",
   "metadata": {
    "id": "3ec7c54ff4830fb8"
   },
   "source": [
    "## 6. Evaluate Function"
   ]
  },
  {
   "cell_type": "markdown",
   "id": "48052d9b",
   "metadata": {},
   "source": [
    "The function takes a MADDPG agent as input and evaluates its performance over a specified number of episodes and episode length."
   ]
  },
  {
   "cell_type": "code",
   "execution_count": 10,
   "id": "f14b583adb0e0113",
   "metadata": {
    "id": "f14b583adb0e0113"
   },
   "outputs": [],
   "source": [
    "def evaluate(num_agents, maddpg, num_episode=10, len_episode=25):\n",
    "    \"\"\"Evaluate the strategies for learning, and no exploration is undertaken at this time.\n",
    "\n",
    "    Args:\n",
    "        num_agents: The number of the agents.\n",
    "        maddpg: The Center Controller.\n",
    "        num_episode: The number of episodes.\n",
    "        len_episode: The length of each episode.\n",
    "\n",
    "    Returns: Returns list.\n",
    "\n",
    "    \"\"\"\n",
    "    env = simple_adversary_v3.parallel_env(N=num_agents, max_cycles=25, continuous_actions=False)\n",
    "    env.reset()\n",
    "    returns = np.zeros(env.max_num_agents)\n",
    "    # Create an array returns of zeros with a length equal to the number of agents in the environment.\n",
    "    # This array will store the cumulative returns for each agent.\n",
    "    for episode in range(num_episode):\n",
    "        states_dict, rewards_dict = env.reset()\n",
    "        states = [state for state in states_dict.values()]\n",
    "        for episode_step in range(len_episode):\n",
    "            actions = maddpg.take_action(states, explore=False)\n",
    "            # Take actions using the MADDPG agent (maddpg.take_action) based on the current states. \n",
    "            actions_SN = [np.argmax(onehot) for onehot in actions]\n",
    "            actions_dict = {env.agents[i]: actions_SN[i] for i in range(env.max_num_agents)}\n",
    "            next_states_dict, rewards_dict, terminations_dict, truncations_dict, _ = env.step(actions_dict)\n",
    "            # Take a step in the environment by passing the actions dictionary to env.step.  \n",
    "            rewards = [reward for reward in rewards_dict.values()]\n",
    "            next_states = [next_state for next_state in next_states_dict.values()]\n",
    "            states = next_states\n",
    "            rewards = np.array(rewards)\n",
    "            returns += rewards / num_episode\n",
    "    env.close()\n",
    "    return returns.tolist()"
   ]
  },
  {
   "cell_type": "markdown",
   "id": "25f288f40c5c2466",
   "metadata": {
    "id": "25f288f40c5c2466"
   },
   "source": [
    "## 7. Auxiliary Function"
   ]
  },
  {
   "cell_type": "markdown",
   "id": "eee6c454",
   "metadata": {},
   "source": [
    "The function rearranges the elements in the input list x and converts them into PyTorch tensors on the specified device."
   ]
  },
  {
   "cell_type": "code",
   "execution_count": 11,
   "id": "e3792d0073af4d80",
   "metadata": {
    "id": "e3792d0073af4d80"
   },
   "outputs": [],
   "source": [
    "def sample_rearrange(x, device):\n",
    "    \"\"\"Rearrange the transition in the sample.\"\"\"\n",
    "    rearranged = [[sub_x[i] for sub_x in x] for i in range(len(x[0]))]\n",
    "    return [torch.FloatTensor(np.vstack(attribute)).to(device) for attribute in rearranged]\n",
    "    # np.vstack is used to vertically stack the elements in each sublist before converting them to a tensor.\n",
    "    # The resulting tensors are then converted to the appropriate device (GPU)."
   ]
  },
  {
   "cell_type": "markdown",
   "id": "1e279ba1b492ebc3",
   "metadata": {
    "id": "1e279ba1b492ebc3"
   },
   "source": [
    "## 8. Set up Parameters and Initialize Variables"
   ]
  },
  {
   "cell_type": "markdown",
   "id": "c9b4093d",
   "metadata": {},
   "source": [
    "It is time to initialize the necessary components and parameters for training an MADDPG agent in a multi-agent environment using the specified settings."
   ]
  },
  {
   "cell_type": "code",
   "execution_count": 12,
   "id": "dab6c59ea86f99f6",
   "metadata": {
    "id": "dab6c59ea86f99f6"
   },
   "outputs": [],
   "source": [
    "# Set up Parameters\n",
    "NUM_EPISODES = 5000\n",
    "LEN_EPISODES = 25  # The maximum length of each episode\n",
    "BUFFER_SIZE = 100_000\n",
    "HIDDEN_DIM = 64  # denotes the dimension of the hidden layers in the actor and critic networks.\n",
    "ACTOR_LR = 1e-2\n",
    "CRITIC_LR = 1e-2\n",
    "GAMMA = 0.95  # determines the discount factor for future rewards.\n",
    "TAU = 1e-2  # sets the soft update coefficient for target network updates.\n",
    "BATCH_SIZE = 1024\n",
    "UPDATE_INTERVAL = 100  # determines the number of steps before performing an update on the networks.\n",
    "MINIMAL_SIZE = 4000  # is a minimum threshold for the replay buffer size before starting the training.\n",
    "# Initialize Environment\n",
    "env = simple_adversary_v3.parallel_env(N=2, max_cycles=25, continuous_actions=False)\n",
    "env.reset()\n",
    "# Initialize Replay Buffer\n",
    "buffer = ReplayBuffer(BUFFER_SIZE)  # stores experiences from the environment.\n",
    "# Initialize Device\n",
    "device = torch.device(\"cuda\" if torch.cuda.is_available() else \"cpu\")\n",
    "# Initialize Return List\n",
    "return_list = []\n",
    "# Initialize Total Step\n",
    "total_step = 0\n",
    "# Initialize MADDPG\n",
    "# 1. Get State and Action Dimensions from the Environment\n",
    "state_dims = [env.observation_space(env.agents[i]).shape[0] for i in range(env.num_agents)]\n",
    "action_dims = [env.action_space(env.agents[i]).n for i in range(env.num_agents)]\n",
    "critic_dim = sum(state_dims) + sum(action_dims)  # calculates the total dimension of the critic network's input\n",
    "# 2. Create Center Controller\n",
    "maddpg = MADDPG(state_dims, action_dims, critic_dim, HIDDEN_DIM, ACTOR_LR, CRITIC_LR, device, GAMMA, TAU)\n",
    "# maddpg is created as an instance of the MADDPG class using the specified dimensions, learning rates and other parameters."
   ]
  },
  {
   "cell_type": "markdown",
   "id": "2da4352adbb6fed",
   "metadata": {
    "id": "2da4352adbb6fed"
   },
   "source": [
    "## 9. Train"
   ]
  },
  {
   "cell_type": "markdown",
   "id": "76b73794",
   "metadata": {},
   "source": [
    "This code implements the training loop for the MADDPG agent, including taking actions, interacting with the environment, updating the networks, and periodically evaluating the agent's performance.\n",
    "- The take_action method is called on the MADDPG agent, with the argument explore=True. This means that the agent will add exploration noise to its action selection, allowing it to explore different actions instead of always selecting the same action deterministically.\n",
    "- The resulting actions are initially in a one-hot encoded format, representing the probability distribution over the possible actions for each agent.\n",
    "- By using numpy.argmax function, each one-hot encoded action is converted into a discrete action by selecting the index of the highest probability."
   ]
  },
  {
   "cell_type": "code",
   "execution_count": 13,
   "id": "edf02a977f035468",
   "metadata": {
    "colab": {
     "base_uri": "https://localhost:8080/"
    },
    "id": "edf02a977f035468",
    "outputId": "c2471308-a137-4560-ca01-b114df0c6315"
   },
   "outputs": [
    {
     "name": "stderr",
     "output_type": "stream",
     "text": [
      "C:\\Users\\16211\\AppData\\Local\\Temp\\ipykernel_19972\\802929597.py:59: UserWarning: Creating a tensor from a list of numpy.ndarrays is extremely slow. Please consider converting the list to a single numpy.ndarray with numpy.array() before converting to a tensor. (Triggered internally at ..\\torch\\csrc\\utils\\tensor_new.cpp:248.)\n",
      "  states = [torch.tensor([state], dtype=torch.float, device=self.device) for state in states]\n"
     ]
    },
    {
     "name": "stdout",
     "output_type": "stream",
     "text": [
      "Episode: 100, [-50.01294434092324, 27.477311759422665, 27.477311759422665]\n",
      "Episode: 200, [-50.211205566736965, 27.961839749566863, 27.961839749566863]\n",
      "Episode: 300, [-55.07178829785753, 28.13767456201035, 28.13767456201035]\n",
      "Episode: 400, [-27.454963220714607, 5.698475640452621, 5.698475640452621]\n",
      "Episode: 500, [-22.036688590797347, -3.6021900726724114, -3.6021900726724114]\n",
      "Episode: 600, [-21.28886724373529, -8.069581322846807, -8.069581322846807]\n",
      "Episode: 700, [-18.897598801324936, -0.6621882852209994, -0.6621882852209994]\n",
      "Episode: 800, [-19.646041894884437, 0.8053171735693928, 0.8053171735693928]\n",
      "Episode: 900, [-18.255108511452107, 2.472327855841341, 2.472327855841341]\n",
      "Episode: 1000, [-19.83628724938249, 4.076738705907333, 4.076738705907333]\n",
      "Episode: 1100, [-17.06672783678842, 0.7335456075383633, 0.7335456075383633]\n",
      "Episode: 1200, [-17.87867427946199, 3.0970344289925587, 3.0970344289925587]\n",
      "Episode: 1300, [-17.890356954482915, 2.9307289234705904, 2.9307289234705904]\n",
      "Episode: 1400, [-16.619955993940142, 2.0142552370187348, 2.0142552370187348]\n",
      "Episode: 1500, [-17.39718819104475, 4.014143174200513, 4.014143174200513]\n",
      "Episode: 1600, [-16.40667485842488, 4.749271086875444, 4.749271086875444]\n",
      "Episode: 1700, [-16.950439776372612, 3.407708344293927, 3.407708344293927]\n",
      "Episode: 1800, [-16.626828555679154, 4.289987838854481, 4.289987838854481]\n",
      "Episode: 1900, [-16.432763999059002, 2.152880944338672, 2.152880944338672]\n",
      "Episode: 2000, [-15.082469643058742, 5.251139796567591, 5.251139796567591]\n",
      "Episode: 2100, [-15.122545059156247, 4.2062585020363, 4.2062585020363]\n",
      "Episode: 2200, [-16.45760758782804, 6.63885886083741, 6.63885886083741]\n",
      "Episode: 2300, [-16.56809983002077, 6.5566433509041095, 6.5566433509041095]\n",
      "Episode: 2400, [-15.59516741662699, 5.843432233477919, 5.843432233477919]\n",
      "Episode: 2500, [-15.911809334504246, 6.015376595295181, 6.015376595295181]\n",
      "Episode: 2600, [-15.767663260993466, 5.091372784909311, 5.091372784909311]\n",
      "Episode: 2700, [-15.180903506773815, 4.63242877120398, 4.63242877120398]\n",
      "Episode: 2800, [-16.411906666659153, 4.292312767749502, 4.292312767749502]\n",
      "Episode: 2900, [-16.28750360773459, 6.430434172448703, 6.430434172448703]\n",
      "Episode: 3000, [-16.08698919682327, 5.520181995229281, 5.520181995229281]\n",
      "Episode: 3100, [-16.283247971868544, 5.895211518381204, 5.895211518381204]\n",
      "Episode: 3200, [-15.452306163632198, 5.042311816053743, 5.042311816053743]\n",
      "Episode: 3300, [-17.332084440616413, 5.232721514791147, 5.232721514791147]\n",
      "Episode: 3400, [-15.693863966221704, 4.866513171564397, 4.866513171564397]\n",
      "Episode: 3500, [-15.880445505177102, 5.728106004208765, 5.728106004208765]\n",
      "Episode: 3600, [-14.935212406414102, 4.292447759640539, 4.292447759640539]\n",
      "Episode: 3700, [-15.022355351151685, 4.675989305253514, 4.675989305253514]\n",
      "Episode: 3800, [-16.285319827543866, 5.670355594792792, 5.670355594792792]\n",
      "Episode: 3900, [-15.742759442836933, 5.051877385224075, 5.051877385224075]\n",
      "Episode: 4000, [-15.43149658333669, 4.027508352297984, 4.027508352297984]\n",
      "Episode: 4100, [-15.54598926319783, 6.04797789281444, 6.04797789281444]\n",
      "Episode: 4200, [-15.884948485343825, 4.575628255194767, 4.575628255194767]\n",
      "Episode: 4300, [-16.082157292935808, 4.407947940872514, 4.407947940872514]\n",
      "Episode: 4400, [-15.49215155394325, 5.451533090229851, 5.451533090229851]\n",
      "Episode: 4500, [-15.032682778054976, 4.234758503780162, 4.234758503780162]\n",
      "Episode: 4600, [-16.564549306963332, 6.3840847599872115, 6.3840847599872115]\n",
      "Episode: 4700, [-15.478033542971739, 4.497381447514655, 4.497381447514655]\n",
      "Episode: 4800, [-14.33979657995493, 3.910327236024275, 3.910327236024275]\n",
      "Episode: 4900, [-15.800323110855416, 4.387899341907715, 4.387899341907715]\n",
      "Episode: 5000, [-16.07394960306951, 4.941074322750598, 4.941074322750598]\n"
     ]
    }
   ],
   "source": [
    "for episode in range(NUM_EPISODES):\n",
    "    # Reset the Environment\n",
    "    states_dict, _ = env.reset()\n",
    "    states = [state for state in states_dict.values()]\n",
    "    # Start a New Game\n",
    "    for episode_step in range(LEN_EPISODES):\n",
    "        # Initial States and Actions\n",
    "        actions = maddpg.take_action(states, explore=True)\n",
    "        actions_SN = [np.argmax(onehot) for onehot in actions]\n",
    "        actions_dict = {env.agents[i]: actions_SN[i] for i in range(env.max_num_agents)}\n",
    "        # Step\n",
    "        next_states_dict, rewards_dict, terminations_dict, truncations_dict, _ = env.step(actions_dict)\n",
    "        # Add to buffer\n",
    "        rewards = [reward for reward in rewards_dict.values()]\n",
    "        next_states = [next_state for next_state in next_states_dict.values()]\n",
    "        terminations = [termination for termination in terminations_dict.values()]\n",
    "        buffer.add(states, actions, rewards, next_states, terminations)\n",
    "        # Update States\n",
    "        states = next_states\n",
    "        # Count += 1\n",
    "        total_step += 1\n",
    "        # When the replay buffer reaches a certain size and the number of steps reaches the specified update interval\n",
    "        # 1. Sample from the replay buffer.\n",
    "        # 2. Update Actors and Critics.\n",
    "        # 3. Update Target networks' parameters.\n",
    "        if len(buffer) >= MINIMAL_SIZE and total_step % UPDATE_INTERVAL == 0:\n",
    "            sample = buffer.sample(BATCH_SIZE)\n",
    "            sample = [sample_rearrange(x, device) for x in sample]\n",
    "            # Update Actors and Critics\n",
    "            for agent_idx in range(env.max_num_agents):\n",
    "                maddpg.update(sample, agent_idx)\n",
    "            # Update Target Parameters\n",
    "            maddpg.update_all_targets_params()\n",
    "    # After every 100 rounds, use the evaluate function to evaluate the trained agents, get the reward list ep_returns, and add it to return_list.\n",
    "    if (episode + 1) % 100 == 0:\n",
    "        episodes_returns = evaluate(env.max_num_agents - 1, maddpg, num_episode=100)\n",
    "        return_list.append(episodes_returns)\n",
    "        print(f\"Episode: {episode + 1}, {episodes_returns}\")\n",
    "# Close the Environment\n",
    "env.close()\n",
    "return_array = np.array(return_list)"
   ]
  },
  {
   "cell_type": "markdown",
   "id": "d2c2e27aeb4cc35",
   "metadata": {
    "id": "d2c2e27aeb4cc35"
   },
   "source": [
    "## 10. Plot"
   ]
  },
  {
   "cell_type": "markdown",
   "id": "846e3f8e",
   "metadata": {},
   "source": [
    "It's time to save and visualize our results."
   ]
  },
  {
   "cell_type": "code",
   "execution_count": 14,
   "id": "e21c1cb0",
   "metadata": {
    "colab": {
     "base_uri": "https://localhost:8080/",
     "height": 487
    },
    "id": "e21c1cb0",
    "outputId": "014fa2ef-a880-4f8e-e42b-23b90ef6a38b"
   },
   "outputs": [
    {
     "data": {
      "image/png": "[encoded data removed]",
      "text/plain": [
       "<Figure size 1000x500 with 1 Axes>"
      ]
     },
     "metadata": {},
     "output_type": "display_data"
    }
   ],
   "source": [
    "num_agents = return_array.shape[1]\n",
    "df = pd.DataFrame(return_array, columns=[f'agent_{i - 1}' if i > 0 else 'adversary_0' for i in range(num_agents)])\n",
    "df.to_excel('return_data.xlsx', index=False)\n",
    "\n",
    "plt.figure(figsize=(10, 5))\n",
    "plt.xlabel('Episodes')\n",
    "plt.ylabel('Return')\n",
    "plt.title('Return vs Episodes for each Agent')\n",
    "plt.grid(True)\n",
    "\n",
    "for agent in range(num_agents):\n",
    "    agent_returns = return_array[:, agent]\n",
    "    if agent == 0:\n",
    "        plt.plot(range(100, len(agent_returns) * 100 + 100, 100), return_array[:, 0], label=f'adversary_0')\n",
    "    else:\n",
    "        plt.plot(range(100, len(agent_returns) * 100 + 100, 100), agent_returns, label=f'agent_{agent - 1}')\n",
    "\n",
    "plt.legend()\n",
    "plt.savefig('return_plot.png')\n",
    "plt.show()"
   ]
  }
 ],
 "metadata": {
  "accelerator": "GPU",
  "colab": {
   "gpuType": "V100",
   "provenance": []
  },
  "kernelspec": {
   "display_name": "Python 3 (ipykernel)",
   "language": "python",
   "name": "python3"
  },
  "language_info": {
   "codemirror_mode": {
    "name": "ipython",
    "version": 3
   },
   "file_extension": ".py",
   "mimetype": "text/x-python",
   "name": "python",
   "nbconvert_exporter": "python",
   "pygments_lexer": "ipython3",
   "version": "3.9.17"
  }
 },
 "nbformat": 4,
 "nbformat_minor": 5
}
